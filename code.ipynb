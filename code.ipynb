{
 "cells": [
  {
   "cell_type": "markdown",
   "metadata": {},
   "source": [
    "## Bibliotecas"
   ]
  },
  {
   "cell_type": "code",
   "execution_count": 20,
   "metadata": {},
   "outputs": [],
   "source": [
    "import os\n",
    "import cv2\n",
    "import numpy as np\n",
    "from PIL import Image"
   ]
  },
  {
   "cell_type": "markdown",
   "metadata": {},
   "source": [
    "## Funções"
   ]
  },
  {
   "cell_type": "code",
   "execution_count": 27,
   "metadata": {},
   "outputs": [],
   "source": [
    "# Binarização dos blocos via método ExG\n",
    "def binarize_image_exg(img):\n",
    "    \n",
    "    B, G, R = cv2.split(img)\n",
    "    # Fórmula do ExG\n",
    "    exg = 2 * G.astype(np.float32) - R.astype(np.float32) - B.astype(np.float32)\n",
    "    # Normalização\n",
    "    exg_normalized = cv2.normalize(exg, None, alpha=0, beta=255, norm_type=cv2.NORM_MINMAX, dtype=cv2.CV_8U)\n",
    "    # Binariza a img através do threshold\n",
    "    _, binary_img = cv2.threshold(exg_normalized, 0, 255, cv2.THRESH_BINARY + cv2.THRESH_OTSU)\n",
    "    \n",
    "    return binary_img"
   ]
  },
  {
   "cell_type": "markdown",
   "metadata": {},
   "source": [
    "## Leitura da imagem e divisão em blocos"
   ]
  },
  {
   "cell_type": "code",
   "execution_count": 24,
   "metadata": {},
   "outputs": [],
   "source": [
    "\n",
    "# Caminhos de input e output\n",
    "input_path = r\"C:\\Users\\mathe\\Desktop\\BemAgro\\dados\\Orthomosaico_roi.tif\"\n",
    "output_path = r\"C:\\Users\\mathe\\Desktop\\BemAgro\\dados\\blocos\"\n",
    "os.makedirs(output_path, exist_ok=True)"
   ]
  },
  {
   "cell_type": "code",
   "execution_count": 3,
   "metadata": {},
   "outputs": [],
   "source": [
    "# Abrindo a imagem\n",
    "image = Image.open(input_path)"
   ]
  },
  {
   "cell_type": "code",
   "execution_count": 5,
   "metadata": {},
   "outputs": [],
   "source": [
    "# Tamanho dos blocos em pixels e coleta da largura a altura da imagem\n",
    "block_size = 128\n",
    "width, height = image.size\n",
    "\n",
    "# Divisão da imagem em blocos\n",
    "for x in range(0, width, block_size):\n",
    "    for y in range(0, height, block_size):\n",
    "\n",
    "        left = x\n",
    "        upper = y\n",
    "        right = min(x + block_size, width)\n",
    "        lower = min(y + block_size, height)\n",
    "        \n",
    "        block = image.crop((left, upper, right, lower))\n",
    "\n",
    "        block_filename = os.path.join(output_path, f\"block_{x}_{y}.png\")\n",
    "        block.save(block_filename)"
   ]
  },
  {
   "cell_type": "markdown",
   "metadata": {},
   "source": [
    "## Geração do Dataset"
   ]
  },
  {
   "cell_type": "code",
   "execution_count": 11,
   "metadata": {},
   "outputs": [],
   "source": [
    "# Retira-se os blocos que são \"rebarbas\" dos cortes\n",
    "min_block_size = 50 * 1024 # 50KB\n",
    "\n",
    "for filename in os.listdir(output_path):\n",
    "\n",
    "    path = output_path + '\\\\' + filename\n",
    "\n",
    "    block_file_size = os.path.getsize(path)\n",
    "\n",
    "    if (block_file_size > min_block_size):\n",
    "        pass\n",
    "    else:\n",
    "        os.remove(path)\n"
   ]
  },
  {
   "cell_type": "code",
   "execution_count": 25,
   "metadata": {},
   "outputs": [],
   "source": [
    "# Atualizando os diretórios\n",
    "input_path = output_path\n",
    "output_path = r\"C:\\Users\\mathe\\Desktop\\BemAgro\\dados\\blocos_binarizados\"\n",
    "os.makedirs(output_path, exist_ok=True)"
   ]
  },
  {
   "cell_type": "code",
   "execution_count": 22,
   "metadata": {},
   "outputs": [],
   "source": [
    "# Aplica a binarização\n",
    "for filename in os.listdir(input_path):\n",
    "\n",
    "    input_img_path = input_path + '\\\\' + filename\n",
    "    img = cv2.imread(input_img_path)\n",
    "    \n",
    "    binary_img = binarize_image_exg(img)\n",
    "    \n",
    "    output_img_path = output_path + '\\\\' + filename\n",
    "    cv2.imwrite(output_img_path, binary_img)"
   ]
  },
  {
   "cell_type": "code",
   "execution_count": null,
   "metadata": {},
   "outputs": [],
   "source": []
  }
 ],
 "metadata": {
  "kernelspec": {
   "display_name": "Python 3",
   "language": "python",
   "name": "python3"
  },
  "language_info": {
   "codemirror_mode": {
    "name": "ipython",
    "version": 3
   },
   "file_extension": ".py",
   "mimetype": "text/x-python",
   "name": "python",
   "nbconvert_exporter": "python",
   "pygments_lexer": "ipython3",
   "version": "3.11.1"
  }
 },
 "nbformat": 4,
 "nbformat_minor": 2
}
