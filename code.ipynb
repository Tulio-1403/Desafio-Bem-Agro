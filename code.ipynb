{
 "cells": [
  {
   "cell_type": "markdown",
   "metadata": {},
   "source": [
    "## Bibliotecas"
   ]
  },
  {
   "cell_type": "code",
   "execution_count": 1,
   "metadata": {},
   "outputs": [],
   "source": [
    "import os\n",
    "from PIL import Image"
   ]
  },
  {
   "cell_type": "markdown",
   "metadata": {},
   "source": [
    "## Leitura da imagem e divisão em blocos"
   ]
  },
  {
   "cell_type": "code",
   "execution_count": 2,
   "metadata": {},
   "outputs": [],
   "source": [
    "\n",
    "# Caminhos de input e output\n",
    "input_path = r\"C:\\Users\\mathe\\Desktop\\BemAgro\\dados\\Orthomosaico_roi.tif\"\n",
    "output_path = r\"C:\\Users\\mathe\\Desktop\\BemAgro\\dados\\blocos\"\n",
    "os.makedirs(output_path, exist_ok=True)"
   ]
  },
  {
   "cell_type": "code",
   "execution_count": 3,
   "metadata": {},
   "outputs": [],
   "source": [
    "# Abrindo a imagem\n",
    "image = Image.open(input_path)"
   ]
  },
  {
   "cell_type": "code",
   "execution_count": 5,
   "metadata": {},
   "outputs": [],
   "source": [
    "# Tamanho dos blocos em pixels e coleta da largura a altura da imagem\n",
    "block_size = 256\n",
    "width, height = image.size\n",
    "\n",
    "# Divisão da imagem em blocos\n",
    "for x in range(0, width, block_size):\n",
    "    for y in range(0, height, block_size):\n",
    "\n",
    "        left = x\n",
    "        upper = y\n",
    "        right = min(x + block_size, width)\n",
    "        lower = min(y + block_size, height)\n",
    "        \n",
    "        block = image.crop((left, upper, right, lower))\n",
    "\n",
    "        block_filename = os.path.join(output_path, f\"block_{x}_{y}.png\")\n",
    "        block.save(block_filename)"
   ]
  },
  {
   "cell_type": "code",
   "execution_count": null,
   "metadata": {},
   "outputs": [],
   "source": []
  }
 ],
 "metadata": {
  "kernelspec": {
   "display_name": "Python 3",
   "language": "python",
   "name": "python3"
  },
  "language_info": {
   "codemirror_mode": {
    "name": "ipython",
    "version": 3
   },
   "file_extension": ".py",
   "mimetype": "text/x-python",
   "name": "python",
   "nbconvert_exporter": "python",
   "pygments_lexer": "ipython3",
   "version": "3.11.1"
  }
 },
 "nbformat": 4,
 "nbformat_minor": 2
}
